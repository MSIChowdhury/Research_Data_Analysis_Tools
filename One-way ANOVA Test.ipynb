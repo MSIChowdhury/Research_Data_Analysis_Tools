{
 "cells": [
  {
   "cell_type": "markdown",
   "metadata": {},
   "source": [
    "This notebook contains the Python code to run one-way Analysis of Variance (ANOVA) test on CSV files. I prepared this code to be be reused in future scientific studies for both myself and anyone who finds it."
   ]
  },
  {
   "cell_type": "markdown",
   "metadata": {
    "id": "nFlAZKwDaF26"
   },
   "source": [
    "Import the necessary libraries"
   ]
  },
  {
   "cell_type": "code",
   "execution_count": null,
   "metadata": {
    "id": "TxaqVXM2SI2b"
   },
   "outputs": [],
   "source": [
    "import pandas as pd\n",
    "import numpy as np\n",
    "from scipy import stats\n",
    "from scipy.stats import levene\n",
    "from statsmodels.formula.api import ols\n",
    "import statsmodels.formula.api as smf\n",
    "from statsmodels.stats.anova import anova_lm\n",
    "from scipy.stats import ttest_ind"
   ]
  },
  {
   "cell_type": "markdown",
   "metadata": {},
   "source": [
    "Load up the CSV file as per the comments into a Pandas Dataframe"
   ]
  },
  {
   "cell_type": "code",
   "execution_count": null,
   "metadata": {
    "id": "GffrhVs4cbej"
   },
   "outputs": [],
   "source": [
    "# Specify the path to your CSV file\n",
    "data_path = 'Lettuce 1st Iteration Nutrient Data.csv'\n",
    "\n",
    "# Read the data from the CSV file\n",
    "data = pd.read_csv(data_path)"
   ]
  },
  {
   "cell_type": "markdown",
   "metadata": {
    "id": "PC5BbVtJkVGB"
   },
   "source": [
    "One-way ANOVA test is performed with a column assigned as the dependent variable and the a list is used to declare the single or multiple columns to be considered as grouping/independent variables for the tests. The code prints the results summary for each variable."
   ]
  },
  {
   "cell_type": "code",
   "execution_count": null,
   "metadata": {
    "colab": {
     "base_uri": "https://localhost:8080/"
    },
    "id": "yFmxOJ0VdA2y",
    "outputId": "cf3008cd-9749-468a-9ffe-724bd0dfec84"
   },
   "outputs": [],
   "source": [
    "import statsmodels.api as sm\n",
    "import statsmodels.formula.api as smf\n",
    "import pandas as pd\n",
    "\n",
    "# Assuming 'data' is your DataFrame containing the dataset\n",
    "# 'grouping_variables' is a list containing the names of grouping/independent variables\n",
    "\n",
    "grouping_variables = ['VariableA', 'VariableB']\n",
    "\n",
    "# Perform One-Way ANOVA for each nutrient\n",
    "for grouping_variable in grouping_variables:\n",
    "    print(\"\\n{} Analysis:\".format(grouping_variable))\n",
    "    \n",
    "    # Perform One-Way ANOVA\n",
    "    model = smf.ols('{} ~ C(SampleType)'.format(grouping_variable), data=data).fit()\n",
    "    anova_table = sm.stats.anova_lm(model, typ=2)\n",
    "\n",
    "    # Get the total sum of squares (SS):\n",
    "    ss_total = anova_table['sum_sq'].sum()\n",
    "\n",
    "    # Calculate eta-squared (η²):\n",
    "    eta_squared = anova_table['sum_sq'] / ss_total\n",
    "\n",
    "    # Calculate partial eta-squared (η²_p):\n",
    "    df_group = anova_table['df'][0]  # Degrees of freedom for the group variable\n",
    "    df_residual = anova_table['df'][1]  # Degrees of freedom for the residual\n",
    "    eta_squared_partial = (anova_table['sum_sq'] / (anova_table['sum_sq'] + df_residual * model.mse_resid)) * df_group\n",
    "\n",
    "    # Combine ANOVA results with eta-squared and partial eta-squared:\n",
    "    results_combined = pd.concat([anova_table, eta_squared.rename('eta_squared'), eta_squared_partial.rename('partial_eta_squared')], axis=1)\n",
    "\n",
    "    # Print the combined results:\n",
    "    print(results_combined)"
   ]
  }
 ],
 "metadata": {
  "colab": {
   "provenance": []
  },
  "kernelspec": {
   "display_name": "Python 3 (ipykernel)",
   "language": "python",
   "name": "python3"
  },
  "language_info": {
   "codemirror_mode": {
    "name": "ipython",
    "version": 3
   },
   "file_extension": ".py",
   "mimetype": "text/x-python",
   "name": "python",
   "nbconvert_exporter": "python",
   "pygments_lexer": "ipython3",
   "version": "3.11.5"
  }
 },
 "nbformat": 4,
 "nbformat_minor": 1
}
